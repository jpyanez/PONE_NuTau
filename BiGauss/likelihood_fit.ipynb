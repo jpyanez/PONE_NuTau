{
 "cells": [
  {
   "cell_type": "code",
   "execution_count": 1,
   "metadata": {},
   "outputs": [],
   "source": [
    "from icecube import icetray, dataio, dataclasses, simclasses, clsim\n",
    "from icecube.icetray import I3Units, OMKey, I3Frame\n",
    "from icecube.dataclasses import ModuleKey\n",
    "from os.path import expandvars\n",
    "import scipy.constants as spc\n",
    "import scipy as sc\n",
    "import numpy as np\n",
    "import matplotlib.pylab as plt"
   ]
  },
  {
   "cell_type": "code",
   "execution_count": 2,
   "metadata": {},
   "outputs": [],
   "source": [
    "file = dataio.I3File('/data/p-one/akatil/step_3_medium_water/Custom/NuTau_NuE_20Events/step_3_713_medium_water_custom_mDOM.i3.gz')"
   ]
  },
  {
   "cell_type": "code",
   "execution_count": 3,
   "metadata": {},
   "outputs": [
    {
     "name": "stdout",
     "output_type": "stream",
     "text": [
      "loaded geometry\n"
     ]
    }
   ],
   "source": [
    "gcd_file = dataio.I3File('/home/users/akatil/P-ONE/GCD_files/PONE_Phase1.i3.gz')\n",
    "cframe = gcd_file.pop_frame()\n",
    "geometry = cframe[\"I3Geometry\"]\n",
    "geoMap = geometry.omgeo\n",
    "print('loaded geometry')"
   ]
  },
  {
   "cell_type": "code",
   "execution_count": 4,
   "metadata": {},
   "outputs": [
    {
     "name": "stdout",
     "output_type": "stream",
     "text": [
      "new Frame\n",
      "Finding OM Positions and time residuals\n",
      "new Frame\n",
      "Finding OM Positions and time residuals\n",
      "new Frame\n",
      "Finding OM Positions and time residuals\n",
      "new Frame\n",
      "Finding OM Positions and time residuals\n",
      "new Frame\n",
      "Finding OM Positions and time residuals\n",
      "new Frame\n",
      "Finding OM Positions and time residuals\n",
      "new Frame\n",
      "Finding OM Positions and time residuals\n",
      "new Frame\n",
      "Finding OM Positions and time residuals\n",
      "new Frame\n",
      "Finding OM Positions and time residuals\n",
      "new Frame\n",
      "Finding OM Positions and time residuals\n",
      "new Frame\n",
      "Finding OM Positions and time residuals\n",
      "new Frame\n",
      "Finding OM Positions and time residuals\n",
      "new Frame\n",
      "Finding OM Positions and time residuals\n",
      "new Frame\n",
      "Finding OM Positions and time residuals\n",
      "new Frame\n",
      "Finding OM Positions and time residuals\n",
      "new Frame\n",
      "Finding OM Positions and time residuals\n"
     ]
    }
   ],
   "source": [
    "maxMCPE_e = 0\n",
    "maxMCPE_t = 0 \n",
    "\n",
    "for frame in file:\n",
    "    print('new Frame')\n",
    "    mctree = frame[\"I3MCTree\"]\n",
    "    primary = mctree.primaries\n",
    "    lepton = dataclasses.I3MCTree.first_child(mctree, primary[0].id)\n",
    "    #tauDecayProd = dataclasses.I3MCTree.get_daughters(mctree, tau.id)\n",
    "    #daughterTauPos = tau.pos\n",
    "    #daughterTauEnergies = tau.energy\n",
    "\n",
    "    mcpeMap = frame['MCPESeriesMap']\n",
    "\n",
    "    print('Finding OM Positions and time residuals')\n",
    "\n",
    "\n",
    "    for omkey in mcpeMap.keys():\n",
    "        oKey = geoMap.get(omkey)\n",
    "        domPos = oKey.position\n",
    "\n",
    "        mcpeList = mcpeMap[omkey]\n",
    "        timeList = [mcpe.time for mcpe in mcpeList]\n",
    "        timeList = np.array(timeList)\n",
    "        #timeRes = timeList - timeTaken\n",
    "        if lepton.type == 11 or lepton.type == -11:\n",
    "            if len(timeList) > maxMCPE_e and len(timeList) < 900:\n",
    "                #print('-----TIME LIST ------', len(timeList))      #electron\n",
    "                maxMCPE_e = len(timeList)\n",
    "                timeArrival_e = timeList\n",
    "        if lepton.type == 15 or lepton.type == -15:\n",
    "            if len(timeList) > maxMCPE_t and len(timeList) < 900:\n",
    "                #print('-----TIME LIST ------', len(timeList))      #tau\n",
    "                maxMCPE_t = len(timeList) \n",
    "                timeArrival_t = timeList"
   ]
  },
  {
   "cell_type": "code",
   "execution_count": 14,
   "metadata": {},
   "outputs": [
    {
     "data": {
      "text/plain": [
       "<matplotlib.text.Text at 0x7f95d2b72b10>"
      ]
     },
     "execution_count": 14,
     "metadata": {},
     "output_type": "execute_result"
    },
    {
     "data": {
      "image/png": "[encoded data removed]",
      "text/plain": [
       "<matplotlib.figure.Figure at 0x7f95d2bfc950>"
      ]
     },
     "metadata": {
      "needs_background": "light"
     },
     "output_type": "display_data"
    }
   ],
   "source": [
    "bins = np.arange(min(timeArrival_t), min(timeArrival_t)+26, 1)\n",
    "num, bin_edges, _ = plt.hist(timeArrival_t, bins=bins, histtype='step')\n",
    "plt.title('Tau')"
   ]
  },
  {
   "cell_type": "code",
   "execution_count": 15,
   "metadata": {},
   "outputs": [
    {
     "data": {
      "text/plain": [
       "'\\ndef log_likelihood(theta, x, y):\\n    pos, wid, amp, log_f = theta\\n    yerr = 0\\n    model = amp*np.exp(-4*np.log(2)*((x-pos)/(wid))**2)\\n    sigma2 = yerr ** 2 + model ** 2 * np.exp(2 * log_f)\\n    return -0.5 * np.sum((y - model) ** 2 / sigma2 + np.log(sigma2))\\n'"
      ]
     },
     "execution_count": 15,
     "metadata": {},
     "output_type": "execute_result"
    }
   ],
   "source": [
    "import scipy\n",
    "\n",
    "def gaussian(x, pos, wid, amp):\n",
    "    y = amp*np.exp(-4*np.log(2)*((x-pos)/(wid))**2)\n",
    "    return y\n",
    "\n",
    "def BiGauss(x, pos, wid, r, amp):\n",
    "    mask = x < pos\n",
    "    \n",
    "    y_all = ([])\n",
    "    for i in range(0, len(mask)):\n",
    "    \n",
    "        if mask[i] == True:\n",
    "            m = 1\n",
    "            nm = 0\n",
    "        else:\n",
    "            m = 0\n",
    "            nm = 1\n",
    "        if r != 0:\n",
    "            y1 = gaussian(x[i],pos,r*wid/(r+1),amp)*m\n",
    "            y2 = gaussian(x[i],pos,wid/(r+1),amp)*nm\n",
    "            y = y1 + y2\n",
    "        else:\n",
    "            y = gaussian(x[i],pos,wid)*nm\n",
    "        \n",
    "        y_all = np.append(y_all, y)\n",
    "    return y_all\n",
    "    \n",
    "def double_peak(x, pos1, wid1, r1, amp1, pos2, wid2, r2, amp2):\n",
    "    x1 = x[x <= min(x)+10]\n",
    "    x2 = x[x > min(x)+10]\n",
    "    b1 = BiGauss(x, pos1, wid1, r1, amp1)\n",
    "    b2 = BiGauss(x, pos2, wid2, r2, amp2)\n",
    "    b = np.append(b1, b2)\n",
    "    return b1+b2\n",
    "\n",
    "def log_likelihood(theta, n, x):\n",
    "    #pos, wid, r, amp = theta\n",
    "    pos1, wid1, r1, amp1, pos2, wid2, r2, amp2 = theta\n",
    "    #model = BiGauss(x, pos, wid, r, amp)\n",
    "    model = double_peak(x, pos1, wid1, r1, amp1, pos2, wid2, r2, amp2)\n",
    "    L = np.log(scipy.special.factorial(n)) + model - (n*np.log(model))\n",
    "    return np.sum(L)\n",
    "    \n",
    "'''\n",
    "def log_likelihood(theta, x, y):\n",
    "    pos, wid, amp, log_f = theta\n",
    "    yerr = 0\n",
    "    model = amp*np.exp(-4*np.log(2)*((x-pos)/(wid))**2)\n",
    "    sigma2 = yerr ** 2 + model ** 2 * np.exp(2 * log_f)\n",
    "    return -0.5 * np.sum((y - model) ** 2 / sigma2 + np.log(sigma2))\n",
    "'''"
   ]
  },
  {
   "cell_type": "code",
   "execution_count": 16,
   "metadata": {},
   "outputs": [],
   "source": [
    "from scipy.optimize import minimize\n",
    "\n",
    "nll = lambda *args: -log_likelihood(*args)\n",
    "bin_centers = (bin_edges[:-1]+bin_edges[1:])/2\n",
    "#initial = np.array([bin_centers[num == max(num)], 5, 0.1, max(num)])\n",
    "initial = np.array([min(bin_centers), 5, 0.1, max(num), min(bin_centers)+30, 5, 0.1, max(num)])\n",
    "#bnds = ((min(bin_centers), min(bin_centers)+5), (0, 10), (0, max(num)))\n",
    "soln = minimize(log_likelihood, initial, args=(num, bin_centers), method='Powell')"
   ]
  },
  {
   "cell_type": "code",
   "execution_count": 17,
   "metadata": {},
   "outputs": [],
   "source": [
    "x = np.linspace(min(bin_centers)-10, max(bin_centers)+10, 1000)\n",
    "#y = BiGauss(x, soln.x[0], soln.x[1], soln.x[2], soln.x[3])\n",
    "y = double_peak(x, soln.x[0], soln.x[1], soln.x[2], soln.x[3], soln.x[4], soln.x[5], soln.x[6], soln.x[7])"
   ]
  },
  {
   "cell_type": "code",
   "execution_count": 18,
   "metadata": {},
   "outputs": [
    {
     "data": {
      "text/plain": [
       "   direc: array([[ 1.00000000e+00,  0.00000000e+00,  0.00000000e+00,\n",
       "         0.00000000e+00,  0.00000000e+00,  0.00000000e+00,\n",
       "         0.00000000e+00,  0.00000000e+00],\n",
       "       [ 1.90030463e-01,  7.66347391e-02,  3.95924947e-02,\n",
       "         5.26174910e-02,  2.02268729e-02,  1.13500939e-02,\n",
       "        -1.46364193e-03, -8.92268149e-02],\n",
       "       [-1.32572373e-02, -2.82801017e+00,  1.18330235e-02,\n",
       "         5.96428713e-01, -9.79753298e-02, -3.80089309e-02,\n",
       "        -1.90623817e-02,  8.26606228e-01],\n",
       "       [-1.28852882e-01, -6.80884286e-01, -4.15789873e-04,\n",
       "        -4.22959071e-01, -4.68120156e+00, -2.80678103e+00,\n",
       "         1.57154599e-02,  2.48309806e-01],\n",
       "       [ 0.00000000e+00,  0.00000000e+00,  0.00000000e+00,\n",
       "         0.00000000e+00,  1.00000000e+00,  0.00000000e+00,\n",
       "         0.00000000e+00,  0.00000000e+00],\n",
       "       [-2.62101331e-01,  1.50925089e+00, -2.88259564e-03,\n",
       "        -2.57057076e+00, -4.02267088e+00,  5.35452624e-01,\n",
       "        -3.50036695e-02, -3.95235233e+00],\n",
       "       [ 0.00000000e+00,  0.00000000e+00,  0.00000000e+00,\n",
       "         0.00000000e+00,  0.00000000e+00,  0.00000000e+00,\n",
       "         1.00000000e+00,  0.00000000e+00],\n",
       "       [ 1.09664693e-01, -1.60371772e-01,  2.51133840e-02,\n",
       "         9.38900025e-02, -2.15646620e-02, -2.76831319e-02,\n",
       "        -1.74324980e-03,  1.42132613e-01]])\n",
       "     fun: 64.87963803557489\n",
       " message: 'Optimization terminated successfully.'\n",
       "    nfev: 1946\n",
       "     nit: 19\n",
       "  status: 0\n",
       " success: True\n",
       "       x: array([ 8.03045559e+04,  1.30801440e+01,  3.92087747e-01,  1.70888363e+01,\n",
       "        8.03187223e+04,  2.30865194e+00, -7.83816206e-01,  1.69696266e+01])"
      ]
     },
     "execution_count": 18,
     "metadata": {},
     "output_type": "execute_result"
    }
   ],
   "source": [
    "soln"
   ]
  },
  {
   "cell_type": "code",
   "execution_count": 19,
   "metadata": {
    "scrolled": false
   },
   "outputs": [
    {
     "data": {
      "text/plain": [
       "[<matplotlib.lines.Line2D at 0x7f95d2daac50>]"
      ]
     },
     "execution_count": 19,
     "metadata": {},
     "output_type": "execute_result"
    },
    {
     "data": {
      "image/png": "[encoded data removed]",
      "text/plain": [
       "<matplotlib.figure.Figure at 0x7f95d2daa750>"
      ]
     },
     "metadata": {
      "needs_background": "light"
     },
     "output_type": "display_data"
    }
   ],
   "source": [
    "plt.plot(x, y, '.')\n",
    "plt.plot(bin_centers, num, '--x')"
   ]
  },
  {
   "cell_type": "code",
   "execution_count": 358,
   "metadata": {},
   "outputs": [],
   "source": [
    "popt, pcov = scipy.optimize.curve_fit(gaussian, xdata=bin_centers, ydata=num,\n",
    "                                      p0 = (41194018.90347786+10, 10, 200), absolute_sigma=True)"
   ]
  },
  {
   "cell_type": "code",
   "execution_count": 359,
   "metadata": {},
   "outputs": [
    {
     "data": {
      "text/plain": [
       "array([41194018.90347786])"
      ]
     },
     "execution_count": 359,
     "metadata": {},
     "output_type": "execute_result"
    }
   ],
   "source": [
    "bin_centers[num == max(num)]"
   ]
  },
  {
   "cell_type": "code",
   "execution_count": 360,
   "metadata": {},
   "outputs": [
    {
     "data": {
      "text/plain": [
       "array([4.11940192e+07, 8.36489509e+00, 6.16024090e+01])"
      ]
     },
     "execution_count": 360,
     "metadata": {},
     "output_type": "execute_result"
    }
   ],
   "source": [
    "popt"
   ]
  },
  {
   "cell_type": "code",
   "execution_count": 212,
   "metadata": {},
   "outputs": [],
   "source": [
    "x1 = np.linspace(min(bin_centers)-10, max(bin_centers)+10, 1000)\n",
    "y1 = gaussian(x, popt[0], popt[1], popt[2])"
   ]
  },
  {
   "cell_type": "code",
   "execution_count": 213,
   "metadata": {},
   "outputs": [
    {
     "data": {
      "text/plain": [
       "[<matplotlib.lines.Line2D at 0x7f225eacfd10>]"
      ]
     },
     "execution_count": 213,
     "metadata": {},
     "output_type": "execute_result"
    },
    {
     "data": {
      "image/png": "[encoded data removed]",
      "text/plain": [
       "<matplotlib.figure.Figure at 0x7f225e2dec90>"
      ]
     },
     "metadata": {
      "needs_background": "light"
     },
     "output_type": "display_data"
    }
   ],
   "source": [
    "plt.plot(x1, y1, '.')\n",
    "plt.plot(bin_edges[:-1], num, '--x')"
   ]
  },
  {
   "cell_type": "code",
   "execution_count": 16,
   "metadata": {},
   "outputs": [],
   "source": [
    "sc.signal.find_peaks_cwt?"
   ]
  },
  {
   "cell_type": "code",
   "execution_count": 18,
   "metadata": {},
   "outputs": [
    {
     "data": {
      "text/plain": [
       "80313.08465242606"
      ]
     },
     "execution_count": 18,
     "metadata": {},
     "output_type": "execute_result"
    }
   ],
   "source": [
    "timeArrival_t[173]"
   ]
  },
  {
   "cell_type": "code",
   "execution_count": null,
   "metadata": {},
   "outputs": [],
   "source": []
  }
 ],
 "metadata": {
  "kernelspec": {
   "display_name": "Python 2",
   "language": "python",
   "name": "python2"
  },
  "language_info": {
   "codemirror_mode": {
    "name": "ipython",
    "version": 2
   },
   "file_extension": ".py",
   "mimetype": "text/x-python",
   "name": "python",
   "nbconvert_exporter": "python",
   "pygments_lexer": "ipython2",
   "version": "2.7.15"
  }
 },
 "nbformat": 4,
 "nbformat_minor": 2
}

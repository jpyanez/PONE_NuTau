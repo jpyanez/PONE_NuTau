{
 "cells": [
  {
   "cell_type": "code",
   "execution_count": 1,
   "metadata": {},
   "outputs": [],
   "source": [
    "from icecube import icetray, dataio, dataclasses, simclasses, clsim\n",
    "from icecube.icetray import I3Units, OMKey, I3Frame\n",
    "from icecube.dataclasses import ModuleKey\n",
    "from os.path import expandvars\n",
    "import scipy.constants as spc\n",
    "import scipy as sc\n",
    "import numpy as np\n",
    "import matplotlib.pylab as plt"
   ]
  },
  {
   "cell_type": "code",
   "execution_count": 2,
   "metadata": {},
   "outputs": [],
   "source": [
    "file = dataio.I3File('/data/p-one/akatil/step_3_medium_water/Custom/NuTau_NuE_20Events/step_3_713_medium_water_custom_mDOM.i3.gz')"
   ]
  },
  {
   "cell_type": "code",
   "execution_count": 3,
   "metadata": {},
   "outputs": [
    {
     "name": "stdout",
     "output_type": "stream",
     "text": [
      "loaded geometry\n"
     ]
    }
   ],
   "source": [
    "gcd_file = dataio.I3File('/home/users/akatil/P-ONE/GCD_files/PONE_Phase1.i3.gz')\n",
    "cframe = gcd_file.pop_frame()\n",
    "geometry = cframe[\"I3Geometry\"]\n",
    "geoMap = geometry.omgeo\n",
    "print('loaded geometry')"
   ]
  },
  {
   "cell_type": "code",
   "execution_count": 4,
   "metadata": {},
   "outputs": [
    {
     "name": "stdout",
     "output_type": "stream",
     "text": [
      "new Frame\n",
      "Finding OM Positions and time residuals\n",
      "new Frame\n",
      "Finding OM Positions and time residuals\n",
      "new Frame\n",
      "Finding OM Positions and time residuals\n",
      "new Frame\n",
      "Finding OM Positions and time residuals\n",
      "new Frame\n",
      "Finding OM Positions and time residuals\n",
      "new Frame\n",
      "Finding OM Positions and time residuals\n",
      "new Frame\n",
      "Finding OM Positions and time residuals\n",
      "new Frame\n",
      "Finding OM Positions and time residuals\n",
      "new Frame\n",
      "Finding OM Positions and time residuals\n",
      "new Frame\n",
      "Finding OM Positions and time residuals\n",
      "new Frame\n",
      "Finding OM Positions and time residuals\n",
      "new Frame\n",
      "Finding OM Positions and time residuals\n",
      "new Frame\n",
      "Finding OM Positions and time residuals\n",
      "new Frame\n",
      "Finding OM Positions and time residuals\n",
      "new Frame\n",
      "Finding OM Positions and time residuals\n",
      "new Frame\n",
      "Finding OM Positions and time residuals\n"
     ]
    }
   ],
   "source": [
    "maxMCPE_e = 0\n",
    "maxMCPE_t = 0 \n",
    "\n",
    "for frame in file:\n",
    "    print('new Frame')\n",
    "    mctree = frame[\"I3MCTree\"]\n",
    "    primary = mctree.primaries\n",
    "    lepton = dataclasses.I3MCTree.first_child(mctree, primary[0].id)\n",
    "    #tauDecayProd = dataclasses.I3MCTree.get_daughters(mctree, tau.id)\n",
    "    #daughterTauPos = tau.pos\n",
    "    #daughterTauEnergies = tau.energy\n",
    "\n",
    "    mcpeMap = frame['MCPESeriesMap']\n",
    "\n",
    "    print('Finding OM Positions and time residuals')\n",
    "\n",
    "\n",
    "    for omkey in mcpeMap.keys():\n",
    "        oKey = geoMap.get(omkey)\n",
    "        domPos = oKey.position\n",
    "\n",
    "        mcpeList = mcpeMap[omkey]\n",
    "        timeList = [mcpe.time for mcpe in mcpeList]\n",
    "        timeList = np.array(timeList)\n",
    "        #timeRes = timeList - timeTaken\n",
    "        if lepton.type == 11 or lepton.type == -11:\n",
    "            if len(timeList) > maxMCPE_e and len(timeList) < 900:\n",
    "                #print('-----TIME LIST ------', len(timeList))\n",
    "                maxMCPE_e = len(timeList)\n",
    "                timeArrival_e = timeList\n",
    "        if lepton.type == 15 or lepton.type == -15:\n",
    "            if len(timeList) > maxMCPE_t and len(timeList) < 900:\n",
    "                #print('-----TIME LIST ------', len(timeList))\n",
    "                maxMCPE_t = len(timeList)\n",
    "                timeArrival_t = timeList"
   ]
  },
  {
   "cell_type": "code",
   "execution_count": 17,
   "metadata": {},
   "outputs": [
    {
     "data": {
      "image/png": "[encoded data removed]",
      "text/plain": [
       "<matplotlib.figure.Figure at 0x7f665dbaeb90>"
      ]
     },
     "metadata": {
      "needs_background": "light"
     },
     "output_type": "display_data"
    }
   ],
   "source": [
    "bins = np.arange(min(timeArrival_t), min(timeArrival_t)+11, 1)\n",
    "num, bin_edges, _ = plt.hist(timeArrival_t, bins=bins, histtype='step')"
   ]
  },
  {
   "cell_type": "code",
   "execution_count": 18,
   "metadata": {},
   "outputs": [
    {
     "data": {
      "text/plain": [
       "'\\ndef log_likelihood(theta, x, y):\\n    pos, wid, amp, log_f = theta\\n    yerr = 0\\n    model = amp*np.exp(-4*np.log(2)*((x-pos)/(wid))**2)\\n    sigma2 = yerr ** 2 + model ** 2 * np.exp(2 * log_f)\\n    return -0.5 * np.sum((y - model) ** 2 / sigma2 + np.log(sigma2))\\n'"
      ]
     },
     "execution_count": 18,
     "metadata": {},
     "output_type": "execute_result"
    }
   ],
   "source": [
    "import scipy\n",
    "\n",
    "def gaussian(x, pos, wid, amp):\n",
    "    y = amp*np.exp(-4*np.log(2)*((x-pos)/(wid))**2)\n",
    "    return y\n",
    "\n",
    "def log_likelihood(theta, n, x):\n",
    "    pos, wid, amp = theta\n",
    "    model =  amp*np.exp(-4*np.log(2)*((x-pos)/(wid))**2)\n",
    "    L = np.log(scipy.special.factorial(n)) + model - (n*np.log(model))\n",
    "    return np.sum(L)\n",
    "    \n",
    "'''\n",
    "def log_likelihood(theta, x, y):\n",
    "    pos, wid, amp, log_f = theta\n",
    "    yerr = 0\n",
    "    model = amp*np.exp(-4*np.log(2)*((x-pos)/(wid))**2)\n",
    "    sigma2 = yerr ** 2 + model ** 2 * np.exp(2 * log_f)\n",
    "    return -0.5 * np.sum((y - model) ** 2 / sigma2 + np.log(sigma2))\n",
    "'''"
   ]
  },
  {
   "cell_type": "code",
   "execution_count": 19,
   "metadata": {},
   "outputs": [
    {
     "name": "stdout",
     "output_type": "stream",
     "text": [
      "[80301.20142043 80302.20142043 80303.20142043 80304.20142043\n",
      " 80305.20142043 80306.20142043 80307.20142043 80308.20142043\n",
      " 80309.20142043 80310.20142043]\n"
     ]
    },
    {
     "name": "stderr",
     "output_type": "stream",
     "text": [
      "/cvmfs/icecube.opensciencegrid.org/py2-v3.1.1/RHEL_7_x86_64/lib/python2.7/site-packages/ipykernel_launcher.py:10: RuntimeWarning: divide by zero encountered in log\n",
      "  # Remove the CWD from sys.path while we load stuff.\n"
     ]
    }
   ],
   "source": [
    "from scipy.optimize import minimize\n",
    "\n",
    "nll = lambda *args: -log_likelihood(*args)\n",
    "bin_centers = (bin_edges[:-1]+bin_edges[1:])/2\n",
    "print(bin_centers)\n",
    "initial = np.array([(bin_centers[0]+40)/2, 20, max(num)])\n",
    "#bnds = ((min(bin_centers), max(bin_centers)), (0, 40), (0, max(num)))\n",
    "soln = minimize(nll, initial, args=(num, bin_centers), method='Powell')"
   ]
  },
  {
   "cell_type": "code",
   "execution_count": 15,
   "metadata": {},
   "outputs": [],
   "source": [
    "x = np.linspace(min(bin_centers)-10, max(bin_centers)+10, 1000)\n",
    "y = gaussian(x, soln.x[0], soln.x[1], soln.x[2])"
   ]
  },
  {
   "cell_type": "code",
   "execution_count": 16,
   "metadata": {},
   "outputs": [
    {
     "data": {
      "text/plain": [
       "[<matplotlib.lines.Line2D at 0x7f665dae9890>]"
      ]
     },
     "execution_count": 16,
     "metadata": {},
     "output_type": "execute_result"
    },
    {
     "data": {
      "image/png": "[encoded data removed]",
      "text/plain": [
       "<matplotlib.figure.Figure at 0x7f665daf5290>"
      ]
     },
     "metadata": {
      "needs_background": "light"
     },
     "output_type": "display_data"
    }
   ],
   "source": [
    "plt.plot(x, y, '.')"
   ]
  },
  {
   "cell_type": "code",
   "execution_count": 95,
   "metadata": {},
   "outputs": [],
   "source": [
    "\n",
    "popt, pcov = scipy.optimize.curve_fit(gaussian, xdata=bin_centers, ydata=num,\n",
    "                                      p0 = (80290, 20, 20),  sigma=np.sqrt(num), absolute_sigma=True)"
   ]
  },
  {
   "cell_type": "code",
   "execution_count": 96,
   "metadata": {},
   "outputs": [
    {
     "data": {
      "text/plain": [
       "array([8.029e+04, 2.000e+01, 2.000e+01])"
      ]
     },
     "execution_count": 96,
     "metadata": {},
     "output_type": "execute_result"
    }
   ],
   "source": [
    "popt"
   ]
  },
  {
   "cell_type": "code",
   "execution_count": 12,
   "metadata": {},
   "outputs": [
    {
     "data": {
      "text/plain": [
       "[<matplotlib.lines.Line2D at 0x7f30fa841050>]"
      ]
     },
     "execution_count": 12,
     "metadata": {},
     "output_type": "execute_result"
    },
    {
     "data": {
      "image/png": "[encoded data removed]",
      "text/plain": [
       "<matplotlib.figure.Figure at 0x7f30fa8b97d0>"
      ]
     },
     "metadata": {
      "needs_background": "light"
     },
     "output_type": "display_data"
    }
   ],
   "source": [
    "plt.plot(bin_edges[:-1], num, '--x')"
   ]
  },
  {
   "cell_type": "code",
   "execution_count": 16,
   "metadata": {},
   "outputs": [],
   "source": [
    "sc.signal.find_peaks_cwt?"
   ]
  },
  {
   "cell_type": "code",
   "execution_count": 18,
   "metadata": {},
   "outputs": [
    {
     "data": {
      "text/plain": [
       "80313.08465242606"
      ]
     },
     "execution_count": 18,
     "metadata": {},
     "output_type": "execute_result"
    }
   ],
   "source": [
    "timeArrival_t[173]"
   ]
  },
  {
   "cell_type": "code",
   "execution_count": null,
   "metadata": {},
   "outputs": [],
   "source": []
  }
 ],
 "metadata": {
  "kernelspec": {
   "display_name": "Python 2",
   "language": "python",
   "name": "python2"
  },
  "language_info": {
   "codemirror_mode": {
    "name": "ipython",
    "version": 2
   },
   "file_extension": ".py",
   "mimetype": "text/x-python",
   "name": "python",
   "nbconvert_exporter": "python",
   "pygments_lexer": "ipython2",
   "version": "2.7.15"
  }
 },
 "nbformat": 4,
 "nbformat_minor": 2
}
